{
 "cells": [
  {
   "cell_type": "code",
   "execution_count": 131,
   "id": "bd858d0a",
   "metadata": {},
   "outputs": [
    {
     "name": "stdout",
     "output_type": "stream",
     "text": [
      "Requirement already satisfied: pymongo in c:\\users\\scman\\anaconda3\\lib\\site-packages (4.3.3)\n",
      "Requirement already satisfied: dnspython<3.0.0,>=1.16.0 in c:\\users\\scman\\anaconda3\\lib\\site-packages (from pymongo) (2.2.1)\n",
      "Note: you may need to restart the kernel to use updated packages.\n"
     ]
    }
   ],
   "source": [
    "pip install pymongo"
   ]
  },
  {
   "cell_type": "code",
   "execution_count": 110,
   "id": "4d9359ac",
   "metadata": {},
   "outputs": [],
   "source": [
    "from pymongo import MongoClient"
   ]
  },
  {
   "cell_type": "code",
   "execution_count": 111,
   "id": "f5d44f9e",
   "metadata": {},
   "outputs": [],
   "source": [
    "client = MongoClient()"
   ]
  },
  {
   "cell_type": "code",
   "execution_count": 112,
   "id": "ddacb16b",
   "metadata": {},
   "outputs": [
    {
     "data": {
      "text/plain": [
       "['Speed',\n",
       " 'admin',\n",
       " 'config',\n",
       " 'dw28',\n",
       " 'local',\n",
       " 'phone',\n",
       " 'posts',\n",
       " 'student',\n",
       " 'student1']"
      ]
     },
     "execution_count": 112,
     "metadata": {},
     "output_type": "execute_result"
    }
   ],
   "source": [
    "a=client.list_database_names()\n",
    "a"
   ]
  },
  {
   "cell_type": "code",
   "execution_count": 113,
   "id": "1c297882",
   "metadata": {},
   "outputs": [
    {
     "name": "stdout",
     "output_type": "stream",
     "text": [
      "Phone database is already exists\n"
     ]
    }
   ],
   "source": [
    "#phone is our database\n",
    "if \"phone\" in a:\n",
    "    print(\"Phone database is already exists\")\n",
    "    db=client[\"phone\"]\n",
    "else:\n",
    "    print(\"phone database is not exist,so we create one\")\n",
    "    db=client[\"phone\"]\n"
   ]
  },
  {
   "cell_type": "code",
   "execution_count": 114,
   "id": "f87c4c68",
   "metadata": {},
   "outputs": [
    {
     "data": {
      "text/plain": [
       "Database(MongoClient(host=['localhost:27017'], document_class=dict, tz_aware=False, connect=True), 'phone')"
      ]
     },
     "execution_count": 114,
     "metadata": {},
     "output_type": "execute_result"
    }
   ],
   "source": [
    "client.get_database(\"phone\")"
   ]
  },
  {
   "cell_type": "code",
   "execution_count": 115,
   "id": "35100722",
   "metadata": {},
   "outputs": [
    {
     "data": {
      "text/plain": [
       "['telephone']"
      ]
     },
     "execution_count": 115,
     "metadata": {},
     "output_type": "execute_result"
    }
   ],
   "source": [
    "b=db.list_collection_names()\n",
    "b"
   ]
  },
  {
   "cell_type": "code",
   "execution_count": 116,
   "id": "a6f95a70",
   "metadata": {},
   "outputs": [
    {
     "name": "stdout",
     "output_type": "stream",
     "text": [
      "There is telephone collection already exists, so we drop and create one\n"
     ]
    },
    {
     "data": {
      "text/plain": [
       "<pymongo.results.InsertManyResult at 0x1d439c14ca0>"
      ]
     },
     "execution_count": 116,
     "metadata": {},
     "output_type": "execute_result"
    }
   ],
   "source": [
    "#telephone is our collection name\n",
    "if \"telephone\" in b:\n",
    "    print(\"There is telephone collection already exists, so we drop and create one\")\n",
    "    db.drop_collection(\"telephone\")\n",
    "    db.create_collection(\"telephone\")\n",
    "else:\n",
    "    print(\"No collection exist for phone database , so we create new one\")\n",
    "    db.create_collection(\"telephone\")\n",
    "\n",
    "#we are inserting sample documents into the telephone collection\n",
    "\n",
    "a=[{'Name':\"Sachin\",\"PhoneNo\":8698958909,\"Place\":\"Bangalore\"},\n",
    "   {'Name':\"Riyaz\",\"PhoneNo\":7558958909,\"Place\":\"Mangalore\"},\n",
    "   {'Name':\"Maxime\",\"PhoneNo\":9447958909,\"Place\":\"Newyork\"},\n",
    "   {'Name':\"Erwin\",\"PhoneNo\":9756958909,\"Place\":\"Berlin\"}]\n",
    "db.telephone.insert_many(a)"
   ]
  },
  {
   "cell_type": "markdown",
   "id": "99f4cfcd",
   "metadata": {},
   "source": [
    "### CRUD operations"
   ]
  },
  {
   "cell_type": "code",
   "execution_count": 129,
   "id": "00ec41bb",
   "metadata": {},
   "outputs": [
    {
     "name": "stdout",
     "output_type": "stream",
     "text": [
      "You can Perform Following operation\n",
      "1.Insert\n",
      "2.Find\n",
      "3.Update\n",
      "4.Delete\n",
      "3\n",
      "\n",
      "You can select documents to which you want to update by using following features\n",
      "1.Name\n",
      "2.PhoneNo\n",
      "3.Place\n",
      "1\n",
      "Enter it\n",
      "Sachin\n",
      "\n",
      "what we have to update\n",
      "1.Name\n",
      "2.PhoneNo\n",
      "3.Place\n",
      "5\n",
      "Enter the new key\n",
      "Gender\n",
      "Enter the value for new key\n",
      "Male\n",
      "{1: 'Name', 2: 'PhoneNo', 3: 'Place', 5: 'Gender'}\n",
      "<pymongo.results.UpdateResult object at 0x000001D43939C1F0>\n"
     ]
    }
   ],
   "source": [
    "def insert():                                                   #function to insert\n",
    "    print(\"Enter how many records that you want to insert\")\n",
    "    b=int(input())\n",
    "    for i in range(b):\n",
    "        print(f\"Enter values for {i+1} document\")\n",
    "        print(\"Enter name:\")\n",
    "        c=input()\n",
    "        print(\"Enter Phone number:\")\n",
    "        d=int(input())\n",
    "        print(\"Enter place:\")\n",
    "        e=input()\n",
    "        f={'Name':c,\"Phone\":d,\"Place\":e}\n",
    "        db.telephone.insert_one(f)\n",
    "\n",
    "\n",
    "\n",
    "def find():                                                     #function to query\n",
    "    print(\"\\nYou can find documents using following features\")\n",
    "    print(\"1.Name\\n2.PhoneNo\\n3.Place\")\n",
    "    b=int(input())\n",
    "    print(\"\\n1.To find one documents\\n2.To find multiple documents\")\n",
    "    d=int(input())\n",
    "    if(d==1):\n",
    "        if(b==1):\n",
    "            c=input(\"Enter name\\n\")\n",
    "            print(db.telephone.find_one({\"Name\":c}))\n",
    "        elif(b==2):\n",
    "            c=int(input(\"Enter PhoneNo\\n\"))\n",
    "            print(db.telephone.find_one({\"PhoneNo\":c}))\n",
    "        elif(b==3):\n",
    "            c=input(\"Enter Place\\n\")\n",
    "            print(db.telephone.find_one({\"Place\":c}))\n",
    "        else:\n",
    "            print(\"Invalid input\")\n",
    "    else:\n",
    "        if(b==1):\n",
    "            c=input(\"Enter name\\n\")\n",
    "            for i in db.telephone.find({\"Name\":c}):\n",
    "                print(i)\n",
    "        elif(b==2):\n",
    "            c=int(input(\"Enter PhoneNo\\n\"))\n",
    "            for i in db.telephone.find({\"Phone\":c}):\n",
    "                print(i)\n",
    "        elif(b==3):\n",
    "            c=input(\"Enter Place\\n\")\n",
    "            for i in db.telephone.find({\"Place\":c}):\n",
    "                print(i)\n",
    "        else:\n",
    "            print(\"Invalid input\")\n",
    "\n",
    "def update():                                                   #function to update\n",
    "    print(\"\\nYou can select documents to which you want to update by using following features\")\n",
    "    print(\"1.Name\\n2.PhoneNo\\n3.Place\")\n",
    "    b=int(input())\n",
    "    \n",
    "    if b not in [1,2,3]:\n",
    "        print(\"Invalid input\")\n",
    "    else:\n",
    "        print(\"Enter it\")\n",
    "        if(b==2):\n",
    "            c=int(input())\n",
    "        else:\n",
    "            c=input()\n",
    "\n",
    "        fer={1:\"Name\",2:\"PhoneNo\",3:\"Place\"}\n",
    "\n",
    "        print(\"\\nwhat we have to update\")\n",
    "        print(\"1.Name\\n2.PhoneNo\\n3.Place\")\n",
    "        d=int(input())\n",
    "\n",
    "        if(d==2):\n",
    "            scu={1:\"Name\",2:\"PhoneNo\",3:\"Place\"}\n",
    "            print(\"Enter new value\")\n",
    "            e=int(input())\n",
    "        elif(d in [1,3]):\n",
    "            scu={1:\"Name\",2:\"PhoneNo\",3:\"Place\"}\n",
    "            print(\"Enter new value\")\n",
    "            e=input()\n",
    "        else:\n",
    "            print(\"Enter the new key\")                           #if we want to create 'new key,value pair'\n",
    "            e=input()\n",
    "            scu={1:\"Name\",2:\"PhoneNo\",3:\"Place\"}\n",
    "            scu[d]=e\n",
    "            print(\"Enter the value for new key\")\n",
    "            e=input()\n",
    "        \n",
    "        \n",
    "        print(scu)\n",
    "        print(db.telephone.update_one({fer[b]:c},{\"$set\":{scu[d]:e}}))\n",
    "            \n",
    "               \n",
    "def delete():                                                  #function to delete\n",
    "    print(\"\\nYou can select documents to which you want to delete by using following features\")\n",
    "    print(\"1.Name\\n2.PhoneNo\\n3.Place\")\n",
    "    b=int(input())\n",
    "    \n",
    "    if b not in [1,2,3]:\n",
    "        print(\"Invalid input\")\n",
    "    else:\n",
    "        print(\"Enter it\")\n",
    "        if(b==2):\n",
    "            c=int(input())\n",
    "        else:\n",
    "            c=input()\n",
    "        fer={1:\"Name\",2:\"PhoneNo\",3:\"Place\"}\n",
    "        \n",
    "        db.telephone.delete_one({fer[b]:c})\n",
    "        \n",
    "    \n",
    "print(\"You can Perform Following operation\")\n",
    "print(\"1.Insert\\n2.Find\\n3.Update\\n4.Delete\")\n",
    "a=int(input())                                  #Take valid input\n",
    "if(a==2):\n",
    "    find()\n",
    "    \n",
    "if(a==3):\n",
    "    update()\n",
    "    \n",
    "if(a==4):\n",
    "    delete()\n",
    "    \n",
    "if(a==1):\n",
    "    insert()\n",
    "    \n",
    "if a not in [1,2,3,4]:\n",
    "    print(\"Invalid input\")\n",
    "    "
   ]
  },
  {
   "cell_type": "code",
   "execution_count": 130,
   "id": "5c79398d",
   "metadata": {},
   "outputs": [
    {
     "name": "stdout",
     "output_type": "stream",
     "text": [
      "{'_id': ObjectId('63871883f080d5b67b339100'), 'Name': 'Sachin', 'PhoneNo': 8698958909, 'Place': 'Mumbai', 'Gender': 'Male'}\n",
      "{'_id': ObjectId('63871883f080d5b67b339101'), 'Name': 'Riyaz', 'PhoneNo': 7558958909, 'Place': 'Mangalore'}\n",
      "{'_id': ObjectId('63871883f080d5b67b339102'), 'Name': 'Maxime', 'PhoneNo': 9447958909, 'Place': 'Newyork'}\n",
      "{'_id': ObjectId('63871883f080d5b67b339103'), 'Name': 'Erwin', 'PhoneNo': 9756958909, 'Place': 'Berlin'}\n"
     ]
    }
   ],
   "source": [
    "for i in db.telephone.find():      #Just to check Reflection of CRUD operations on given collection of documents\n",
    "    print(i)"
   ]
  },
  {
   "cell_type": "code",
   "execution_count": null,
   "id": "d61b7e50",
   "metadata": {},
   "outputs": [],
   "source": []
  }
 ],
 "metadata": {
  "kernelspec": {
   "display_name": "Python 3 (ipykernel)",
   "language": "python",
   "name": "python3"
  },
  "language_info": {
   "codemirror_mode": {
    "name": "ipython",
    "version": 3
   },
   "file_extension": ".py",
   "mimetype": "text/x-python",
   "name": "python",
   "nbconvert_exporter": "python",
   "pygments_lexer": "ipython3",
   "version": "3.9.13"
  }
 },
 "nbformat": 4,
 "nbformat_minor": 5
}
